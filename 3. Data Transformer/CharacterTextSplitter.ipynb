{
 "cells": [
  {
   "cell_type": "markdown",
   "id": "2b86d1c9",
   "metadata": {},
   "source": []
  },
  {
   "cell_type": "code",
   "execution_count": null,
   "id": "cf338156",
   "metadata": {},
   "outputs": [],
   "source": [
    "# Reading Text File\n",
    "\n",
    "from langchain_community.document_loaders import TextLoader\n",
    "\n",
    "loader= TextLoader('speech.txt')\n",
    "\n",
    "loader\n",
    "\n",
    "text_documents = loader.load()\n",
    "\n",
    "text_documents"
   ]
  },
  {
   "cell_type": "code",
   "execution_count": null,
   "id": "c9ac05bd",
   "metadata": {},
   "outputs": [
    {
     "name": "stdout",
     "output_type": "stream",
     "text": [
      "page_content='Technology has become an inseparable part of our daily lives, shaping how we learn, work, and connect with others. From smartphones that keep us informed in real time to artificial intelligence that powers self-driving cars and virtual assistants, innovation is rapidly transforming the world. While these advancements bring convenience and efficiency, they also raise important questions about privacy, ethics, and the future of human employment. To ensure technology serves humanity positively, it is essential to balance progress with responsibility, creating solutions that are not only powerful but also inclusive and sustainable for generations to come. Artificial Intelligence is transforming the way industries operate by automating repetitive tasks and enhancing human decision-making. In healthcare, AI systems can analyze medical images to detect diseases at an early stage with remarkable accuracy. In finance, algorithms process huge volumes of data in real time to predict market trends and manage risks more effectively. Even in our daily lives, AI powers the recommendations we see on streaming platforms and helps virtual assistants answer our queries instantly. While the opportunities are vast, it also raises important questions about ethics, data privacy, and job displacement, making it essential to balance innovation with responsibility.'\n"
     ]
    },
    {
     "ename": "IndexError",
     "evalue": "list index out of range",
     "output_type": "error",
     "traceback": [
      "\u001b[31m---------------------------------------------------------------------------\u001b[39m",
      "\u001b[31mIndexError\u001b[39m                                Traceback (most recent call last)",
      "\u001b[36mCell\u001b[39m\u001b[36m \u001b[39m\u001b[32mIn[6]\u001b[39m\u001b[32m, line 10\u001b[39m\n\u001b[32m      7\u001b[39m text=text_splitter.create_documents([speech])\n\u001b[32m      9\u001b[39m \u001b[38;5;28mprint\u001b[39m(text[\u001b[32m0\u001b[39m])\n\u001b[32m---> \u001b[39m\u001b[32m10\u001b[39m \u001b[38;5;28mprint\u001b[39m(\u001b[43mtext\u001b[49m\u001b[43m[\u001b[49m\u001b[32;43m1\u001b[39;49m\u001b[43m]\u001b[49m)\n",
      "\u001b[31mIndexError\u001b[39m: list index out of range"
     ]
    }
   ],
   "source": [
    "from langchain_text_splitters import CharacterTextSplitter\n",
    "speech=\"\"\n",
    "with open(\"speech.txt\") as f:\n",
    "    speech=f.read()\n",
    "\n",
    "text_splitter = CharacterTextSplitter(chunk_size=20,chunk_overlap=5, separator=\" \")\n",
    "text=text_splitter.create_documents([speech])\n",
    "\n",
    "print(text[0])\n",
    "print(text[1])"
   ]
  }
 ],
 "metadata": {
  "kernelspec": {
   "display_name": "Python 3",
   "language": "python",
   "name": "python3"
  },
  "language_info": {
   "codemirror_mode": {
    "name": "ipython",
    "version": 3
   },
   "file_extension": ".py",
   "mimetype": "text/x-python",
   "name": "python",
   "nbconvert_exporter": "python",
   "pygments_lexer": "ipython3",
   "version": "3.12.11"
  }
 },
 "nbformat": 4,
 "nbformat_minor": 5
}
