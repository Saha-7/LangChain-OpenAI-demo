{
 "cells": [
  {
   "cell_type": "markdown",
   "id": "2b86d1c9",
   "metadata": {},
   "source": []
  },
  {
   "cell_type": "code",
   "execution_count": null,
   "id": "cf338156",
   "metadata": {},
   "outputs": [],
   "source": [
    "# Reading Text File\n",
    "\n",
    "from langchain_community.document_loaders import TextLoader\n",
    "\n",
    "loader= TextLoader('speech.txt')\n",
    "\n",
    "loader\n",
    "\n",
    "text_documents = loader.load()\n",
    "\n",
    "text_documents"
   ]
  },
  {
   "cell_type": "code",
   "execution_count": 7,
   "id": "c9ac05bd",
   "metadata": {},
   "outputs": [
    {
     "name": "stdout",
     "output_type": "stream",
     "text": [
      "page_content='Technology has'\n",
      "page_content='has become an'\n"
     ]
    }
   ],
   "source": [
    "from langchain_text_splitters import CharacterTextSplitter\n",
    "speech=\"\"\n",
    "with open(\"speech.txt\") as f:\n",
    "    speech=f.read()\n",
    "\n",
    "text_splitter = CharacterTextSplitter(chunk_size=20,chunk_overlap=5, separator=\" \")\n",
    "text=text_splitter.create_documents([speech])\n",
    "\n",
    "print(text[0])\n",
    "print(text[1])"
   ]
  }
 ],
 "metadata": {
  "kernelspec": {
   "display_name": "Python 3",
   "language": "python",
   "name": "python3"
  },
  "language_info": {
   "codemirror_mode": {
    "name": "ipython",
    "version": 3
   },
   "file_extension": ".py",
   "mimetype": "text/x-python",
   "name": "python",
   "nbconvert_exporter": "python",
   "pygments_lexer": "ipython3",
   "version": "3.12.11"
  }
 },
 "nbformat": 4,
 "nbformat_minor": 5
}
