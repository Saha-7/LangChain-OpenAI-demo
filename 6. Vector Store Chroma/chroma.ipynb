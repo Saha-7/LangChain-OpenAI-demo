{
 "cells": [
  {
   "cell_type": "code",
   "execution_count": 1,
   "id": "01d46e32",
   "metadata": {},
   "outputs": [],
   "source": [
    "from langchain_chroma import Chroma\n",
    "from langchain_community.document_loaders import TextLoader\n",
    "from langchain_community.embeddings import OllamaEmbeddings\n",
    "from langchain_text_splitters import RecursiveCharacterTextSplitter\n"
   ]
  },
  {
   "cell_type": "code",
   "execution_count": 2,
   "id": "b0bc3b29",
   "metadata": {},
   "outputs": [
    {
     "data": {
      "text/plain": [
       "[Document(metadata={'source': 'speech.txt'}, page_content='Technology has become an inseparable part of our daily lives, shaping how we learn, work, and connect with others. From smartphones that keep us informed in real time to artificial intelligence that powers self-driving cars and virtual assistants, innovation is rapidly transforming the world. While these advancements bring convenience and efficiency, they also raise important questions about privacy, ethics, and the future of human employment. To ensure technology serves humanity positively, it is essential to balance progress with responsibility, creating solutions that are not only powerful but also inclusive and sustainable for generations to come. Artificial Intelligence is transforming the way industries operate by automating repetitive tasks and enhancing human decision-making. In healthcare, AI systems can analyze medical images to detect diseases at an early stage with remarkable accuracy. In finance, algorithms process huge volumes of data in real time to predict market trends and manage risks more effectively. Even in our daily lives, AI powers the recommendations we see on streaming platforms and helps virtual assistants answer our queries instantly. While the opportunities are vast, it also raises important questions about ethics, data privacy, and job displacement, making it essential to balance innovation with responsibility.')]"
      ]
     },
     "execution_count": 2,
     "metadata": {},
     "output_type": "execute_result"
    }
   ],
   "source": [
    "loader = TextLoader(\"speech.txt\")\n",
    "data=loader.load()\n",
    "data"
   ]
  },
  {
   "cell_type": "code",
   "execution_count": 3,
   "id": "4297506e",
   "metadata": {},
   "outputs": [],
   "source": [
    "#split\n",
    "\n",
    "text_splitter = RecursiveCharacterTextSplitter(chunk_size=500, chunk_overlap=0)\n",
    "splits = text_splitter.split_documents(data)"
   ]
  },
  {
   "cell_type": "code",
   "execution_count": 6,
   "id": "ecbc2a24",
   "metadata": {},
   "outputs": [
    {
     "data": {
      "text/plain": [
       "<langchain_chroma.vectorstores.Chroma at 0x205473cb7a0>"
      ]
     },
     "execution_count": 6,
     "metadata": {},
     "output_type": "execute_result"
    }
   ],
   "source": [
    "# Embeddings & Stored\n",
    "embeddings = OllamaEmbeddings(model=\"nomic-embed-text\")\n",
    "vectordb = Chroma.from_documents(documents=splits, embedding=embeddings)\n",
    "vectordb"
   ]
  },
  {
   "cell_type": "code",
   "execution_count": 8,
   "id": "fa33d82f",
   "metadata": {},
   "outputs": [
    {
     "data": {
      "text/plain": [
       "'Technology has become an inseparable part of our daily lives, shaping how we learn, work, and connect with others. From smartphones that keep us informed in real time to artificial intelligence that powers self-driving cars and virtual assistants, innovation is rapidly transforming the world. While these advancements bring convenience and efficiency, they also raise important questions about privacy, ethics, and the future of human employment. To ensure technology serves humanity positively, it'"
      ]
     },
     "execution_count": 8,
     "metadata": {},
     "output_type": "execute_result"
    }
   ],
   "source": [
    "# Query\n",
    "query = \"What did the president say about K-12 education?\"\n",
    "docs = vectordb.similarity_search(query)\n",
    "docs[0].page_content"
   ]
  }
 ],
 "metadata": {
  "kernelspec": {
   "display_name": "Python 3",
   "language": "python",
   "name": "python3"
  },
  "language_info": {
   "codemirror_mode": {
    "name": "ipython",
    "version": 3
   },
   "file_extension": ".py",
   "mimetype": "text/x-python",
   "name": "python",
   "nbconvert_exporter": "python",
   "pygments_lexer": "ipython3",
   "version": "3.12.11"
  }
 },
 "nbformat": 4,
 "nbformat_minor": 5
}
